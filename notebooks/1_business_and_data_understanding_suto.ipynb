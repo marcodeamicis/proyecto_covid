{
 "cells": [
  {
   "cell_type": "code",
   "execution_count": 135,
   "metadata": {},
   "outputs": [],
   "source": [
    "# libs para manipulação de dados\n",
    "import numpy as np\n",
    "import pandas as pd\n",
    "\n",
    "# libs para visuzalização de dados\n",
    "import matplotlib.pyplot as plt\n",
    "import plotly.express as px\n",
    "import seaborn as sns\n",
    "\n",
    "BASE_MUERTES_COVID = '../data/external/muertes-covid-por-pais.csv'\n",
    "BASE_POBLACION = '../data/external/poblacion-por-pais.csv'"
   ]
  },
  {
   "cell_type": "markdown",
   "metadata": {},
   "source": [
    "## Carregando as bases"
   ]
  },
  {
   "cell_type": "code",
   "execution_count": 41,
   "metadata": {},
   "outputs": [
    {
     "data": {
      "text/plain": [
       "[['pais'],\n",
       " ['fecha', 'inicio'],\n",
       " ['fecha', 'fin'],\n",
       " ['dias'],\n",
       " ['semana'],\n",
       " ['total', 'muertes', 'reportadas'],\n",
       " ['total', 'muertes', 'reportadas', 'por', 'covid']]"
      ]
     },
     "execution_count": 41,
     "metadata": {},
     "output_type": "execute_result"
    }
   ],
   "source": [
    "lst_colunas = pd.read_csv(\n",
    "    BASE_MUERTES_COVID,\n",
    "    sep=',').columns\n",
    "\n",
    "lst_colunas\n",
    "\n",
    "[coluna.split() for coluna in lst_colunas]\n"
   ]
  },
  {
   "cell_type": "code",
   "execution_count": 42,
   "metadata": {},
   "outputs": [
    {
     "name": "stdout",
     "output_type": "stream",
     "text": [
      "Dimensões da df_muertes_covid: (1332, 7)\n",
      "Dimensões da df_poblacion: (5, 2)\n"
     ]
    }
   ],
   "source": [
    "# Carregando base 'muertes-covid-por-pais.csv'\n",
    "df_muertes_covid = pd.read_csv(\n",
    "    BASE_MUERTES_COVID,\n",
    "    sep=',',\n",
    "    header=0,\n",
    "    names=['pais', 'fecha_inicio', 'fecha_fin', 'dias', 'semana', 'total_muertes_reportadas', 'total_muertes_reportadas_por_covid'],\n",
    "    parse_dates=['fecha_inicio', 'fecha_fin']\n",
    "    )\n",
    "print(f\"Dimensões da df_muertes_covid: {df_muertes_covid.shape}\")\n",
    "\n",
    "# Carregando base 'poblacion-por-pais.csv'\n",
    "df_poblacion = pd.read_csv(\n",
    "    BASE_POBLACION,\n",
    "    sep=',',\n",
    "    header=0,\n",
    "    names=['pais', 'poblacion']\n",
    "    )\n",
    "print(f\"Dimensões da df_poblacion: {df_poblacion.shape}\")"
   ]
  },
  {
   "cell_type": "code",
   "execution_count": 43,
   "metadata": {},
   "outputs": [
    {
     "data": {
      "text/html": [
       "<div>\n",
       "<style scoped>\n",
       "    .dataframe tbody tr th:only-of-type {\n",
       "        vertical-align: middle;\n",
       "    }\n",
       "\n",
       "    .dataframe tbody tr th {\n",
       "        vertical-align: top;\n",
       "    }\n",
       "\n",
       "    .dataframe thead th {\n",
       "        text-align: right;\n",
       "    }\n",
       "</style>\n",
       "<table border=\"1\" class=\"dataframe\">\n",
       "  <thead>\n",
       "    <tr style=\"text-align: right;\">\n",
       "      <th></th>\n",
       "      <th>pais</th>\n",
       "      <th>fecha_inicio</th>\n",
       "      <th>fecha_fin</th>\n",
       "      <th>dias</th>\n",
       "      <th>semana</th>\n",
       "      <th>total_muertes_reportadas</th>\n",
       "      <th>total_muertes_reportadas_por_covid</th>\n",
       "    </tr>\n",
       "  </thead>\n",
       "  <tbody>\n",
       "    <tr>\n",
       "      <th>0</th>\n",
       "      <td>Mexico</td>\n",
       "      <td>2014-12-29</td>\n",
       "      <td>2015-01-04</td>\n",
       "      <td>7</td>\n",
       "      <td>1</td>\n",
       "      <td>15101</td>\n",
       "      <td>0</td>\n",
       "    </tr>\n",
       "    <tr>\n",
       "      <th>1</th>\n",
       "      <td>Mexico</td>\n",
       "      <td>2015-01-05</td>\n",
       "      <td>2015-01-11</td>\n",
       "      <td>7</td>\n",
       "      <td>2</td>\n",
       "      <td>15449</td>\n",
       "      <td>0</td>\n",
       "    </tr>\n",
       "    <tr>\n",
       "      <th>2</th>\n",
       "      <td>Mexico</td>\n",
       "      <td>2015-01-12</td>\n",
       "      <td>2015-01-18</td>\n",
       "      <td>7</td>\n",
       "      <td>3</td>\n",
       "      <td>14820</td>\n",
       "      <td>0</td>\n",
       "    </tr>\n",
       "    <tr>\n",
       "      <th>3</th>\n",
       "      <td>Mexico</td>\n",
       "      <td>2015-01-19</td>\n",
       "      <td>2015-01-25</td>\n",
       "      <td>7</td>\n",
       "      <td>4</td>\n",
       "      <td>14172</td>\n",
       "      <td>0</td>\n",
       "    </tr>\n",
       "    <tr>\n",
       "      <th>4</th>\n",
       "      <td>Mexico</td>\n",
       "      <td>2015-01-26</td>\n",
       "      <td>2015-02-01</td>\n",
       "      <td>7</td>\n",
       "      <td>5</td>\n",
       "      <td>13628</td>\n",
       "      <td>0</td>\n",
       "    </tr>\n",
       "  </tbody>\n",
       "</table>\n",
       "</div>"
      ],
      "text/plain": [
       "     pais fecha_inicio  fecha_fin  dias  semana  total_muertes_reportadas  \\\n",
       "0  Mexico   2014-12-29 2015-01-04     7       1                     15101   \n",
       "1  Mexico   2015-01-05 2015-01-11     7       2                     15449   \n",
       "2  Mexico   2015-01-12 2015-01-18     7       3                     14820   \n",
       "3  Mexico   2015-01-19 2015-01-25     7       4                     14172   \n",
       "4  Mexico   2015-01-26 2015-02-01     7       5                     13628   \n",
       "\n",
       "   total_muertes_reportadas_por_covid  \n",
       "0                                   0  \n",
       "1                                   0  \n",
       "2                                   0  \n",
       "3                                   0  \n",
       "4                                   0  "
      ]
     },
     "execution_count": 43,
     "metadata": {},
     "output_type": "execute_result"
    }
   ],
   "source": [
    "df_muertes_covid.head()"
   ]
  },
  {
   "cell_type": "code",
   "execution_count": 44,
   "metadata": {},
   "outputs": [
    {
     "data": {
      "text/html": [
       "<div>\n",
       "<style scoped>\n",
       "    .dataframe tbody tr th:only-of-type {\n",
       "        vertical-align: middle;\n",
       "    }\n",
       "\n",
       "    .dataframe tbody tr th {\n",
       "        vertical-align: top;\n",
       "    }\n",
       "\n",
       "    .dataframe thead th {\n",
       "        text-align: right;\n",
       "    }\n",
       "</style>\n",
       "<table border=\"1\" class=\"dataframe\">\n",
       "  <thead>\n",
       "    <tr style=\"text-align: right;\">\n",
       "      <th></th>\n",
       "      <th>pais</th>\n",
       "      <th>poblacion</th>\n",
       "    </tr>\n",
       "  </thead>\n",
       "  <tbody>\n",
       "    <tr>\n",
       "      <th>0</th>\n",
       "      <td>Mexico</td>\n",
       "      <td>130262220</td>\n",
       "    </tr>\n",
       "    <tr>\n",
       "      <th>1</th>\n",
       "      <td>Peru</td>\n",
       "      <td>33359415</td>\n",
       "    </tr>\n",
       "    <tr>\n",
       "      <th>2</th>\n",
       "      <td>Chile</td>\n",
       "      <td>19212362</td>\n",
       "    </tr>\n",
       "    <tr>\n",
       "      <th>3</th>\n",
       "      <td>Brazil</td>\n",
       "      <td>213993441</td>\n",
       "    </tr>\n",
       "    <tr>\n",
       "      <th>4</th>\n",
       "      <td>Colombia</td>\n",
       "      <td>51265841</td>\n",
       "    </tr>\n",
       "  </tbody>\n",
       "</table>\n",
       "</div>"
      ],
      "text/plain": [
       "       pais  poblacion\n",
       "0    Mexico  130262220\n",
       "1      Peru   33359415\n",
       "2     Chile   19212362\n",
       "3    Brazil  213993441\n",
       "4  Colombia   51265841"
      ]
     },
     "execution_count": 44,
     "metadata": {},
     "output_type": "execute_result"
    }
   ],
   "source": [
    "df_poblacion.head()"
   ]
  },
  {
   "cell_type": "markdown",
   "metadata": {},
   "source": [
    "## Avaliando as bases\n",
    "\n",
    "Devido à quantidade de registros, analisaremos somente a tabela 'df_muertes_covid'.\n",
    "\n",
    "### Verificando nulos e valores incoerentes"
   ]
  },
  {
   "cell_type": "code",
   "execution_count": 45,
   "metadata": {},
   "outputs": [
    {
     "name": "stdout",
     "output_type": "stream",
     "text": [
      "<class 'pandas.core.frame.DataFrame'>\n",
      "RangeIndex: 1332 entries, 0 to 1331\n",
      "Data columns (total 7 columns):\n",
      " #   Column                              Non-Null Count  Dtype         \n",
      "---  ------                              --------------  -----         \n",
      " 0   pais                                1332 non-null   object        \n",
      " 1   fecha_inicio                        1332 non-null   datetime64[ns]\n",
      " 2   fecha_fin                           1332 non-null   datetime64[ns]\n",
      " 3   dias                                1332 non-null   int64         \n",
      " 4   semana                              1332 non-null   int64         \n",
      " 5   total_muertes_reportadas            1332 non-null   int64         \n",
      " 6   total_muertes_reportadas_por_covid  1332 non-null   int64         \n",
      "dtypes: datetime64[ns](2), int64(4), object(1)\n",
      "memory usage: 73.0+ KB\n"
     ]
    }
   ],
   "source": [
    "df_muertes_covid.info()"
   ]
  },
  {
   "cell_type": "code",
   "execution_count": 46,
   "metadata": {},
   "outputs": [
    {
     "name": "stdout",
     "output_type": "stream",
     "text": [
      "pais: 5 valores únicos\n",
      "fecha_inicio: 428 valores únicos\n",
      "fecha_fin: 428 valores únicos\n"
     ]
    }
   ],
   "source": [
    "for column in df_muertes_covid.select_dtypes(include=['object', 'datetime64[ns]']).columns:\n",
    "    print(f\"{column}: {df_muertes_covid[column].nunique()} valores únicos\")"
   ]
  },
  {
   "cell_type": "code",
   "execution_count": 47,
   "metadata": {},
   "outputs": [
    {
     "data": {
      "text/html": [
       "<div>\n",
       "<style scoped>\n",
       "    .dataframe tbody tr th:only-of-type {\n",
       "        vertical-align: middle;\n",
       "    }\n",
       "\n",
       "    .dataframe tbody tr th {\n",
       "        vertical-align: top;\n",
       "    }\n",
       "\n",
       "    .dataframe thead th {\n",
       "        text-align: right;\n",
       "    }\n",
       "</style>\n",
       "<table border=\"1\" class=\"dataframe\">\n",
       "  <thead>\n",
       "    <tr style=\"text-align: right;\">\n",
       "      <th></th>\n",
       "      <th>pais</th>\n",
       "      <th>fecha_inicio</th>\n",
       "      <th>fecha_fin</th>\n",
       "      <th>dias</th>\n",
       "      <th>semana</th>\n",
       "      <th>total_muertes_reportadas</th>\n",
       "      <th>total_muertes_reportadas_por_covid</th>\n",
       "    </tr>\n",
       "  </thead>\n",
       "  <tbody>\n",
       "    <tr>\n",
       "      <th>0</th>\n",
       "      <td>Mexico</td>\n",
       "      <td>2014-12-29</td>\n",
       "      <td>2015-01-04</td>\n",
       "      <td>7</td>\n",
       "      <td>1</td>\n",
       "      <td>15101</td>\n",
       "      <td>0</td>\n",
       "    </tr>\n",
       "    <tr>\n",
       "      <th>1</th>\n",
       "      <td>Mexico</td>\n",
       "      <td>2015-01-05</td>\n",
       "      <td>2015-01-11</td>\n",
       "      <td>7</td>\n",
       "      <td>2</td>\n",
       "      <td>15449</td>\n",
       "      <td>0</td>\n",
       "    </tr>\n",
       "    <tr>\n",
       "      <th>2</th>\n",
       "      <td>Mexico</td>\n",
       "      <td>2015-01-12</td>\n",
       "      <td>2015-01-18</td>\n",
       "      <td>7</td>\n",
       "      <td>3</td>\n",
       "      <td>14820</td>\n",
       "      <td>0</td>\n",
       "    </tr>\n",
       "    <tr>\n",
       "      <th>3</th>\n",
       "      <td>Mexico</td>\n",
       "      <td>2015-01-19</td>\n",
       "      <td>2015-01-25</td>\n",
       "      <td>7</td>\n",
       "      <td>4</td>\n",
       "      <td>14172</td>\n",
       "      <td>0</td>\n",
       "    </tr>\n",
       "    <tr>\n",
       "      <th>4</th>\n",
       "      <td>Mexico</td>\n",
       "      <td>2015-01-26</td>\n",
       "      <td>2015-02-01</td>\n",
       "      <td>7</td>\n",
       "      <td>5</td>\n",
       "      <td>13628</td>\n",
       "      <td>0</td>\n",
       "    </tr>\n",
       "  </tbody>\n",
       "</table>\n",
       "</div>"
      ],
      "text/plain": [
       "     pais fecha_inicio  fecha_fin  dias  semana  total_muertes_reportadas  \\\n",
       "0  Mexico   2014-12-29 2015-01-04     7       1                     15101   \n",
       "1  Mexico   2015-01-05 2015-01-11     7       2                     15449   \n",
       "2  Mexico   2015-01-12 2015-01-18     7       3                     14820   \n",
       "3  Mexico   2015-01-19 2015-01-25     7       4                     14172   \n",
       "4  Mexico   2015-01-26 2015-02-01     7       5                     13628   \n",
       "\n",
       "   total_muertes_reportadas_por_covid  \n",
       "0                                   0  \n",
       "1                                   0  \n",
       "2                                   0  \n",
       "3                                   0  \n",
       "4                                   0  "
      ]
     },
     "execution_count": 47,
     "metadata": {},
     "output_type": "execute_result"
    }
   ],
   "source": [
    "df_muertes_covid.head()"
   ]
  },
  {
   "cell_type": "code",
   "execution_count": 48,
   "metadata": {},
   "outputs": [
    {
     "data": {
      "text/html": [
       "<div>\n",
       "<style scoped>\n",
       "    .dataframe tbody tr th:only-of-type {\n",
       "        vertical-align: middle;\n",
       "    }\n",
       "\n",
       "    .dataframe tbody tr th {\n",
       "        vertical-align: top;\n",
       "    }\n",
       "\n",
       "    .dataframe thead th {\n",
       "        text-align: right;\n",
       "    }\n",
       "</style>\n",
       "<table border=\"1\" class=\"dataframe\">\n",
       "  <thead>\n",
       "    <tr style=\"text-align: right;\">\n",
       "      <th></th>\n",
       "      <th>count</th>\n",
       "      <th>mean</th>\n",
       "      <th>std</th>\n",
       "      <th>min</th>\n",
       "      <th>25%</th>\n",
       "      <th>50%</th>\n",
       "      <th>75%</th>\n",
       "      <th>max</th>\n",
       "    </tr>\n",
       "  </thead>\n",
       "  <tbody>\n",
       "    <tr>\n",
       "      <th>dias</th>\n",
       "      <td>1332.0</td>\n",
       "      <td>8.424925</td>\n",
       "      <td>5.605587</td>\n",
       "      <td>7.0</td>\n",
       "      <td>7.0</td>\n",
       "      <td>7.0</td>\n",
       "      <td>7.0</td>\n",
       "      <td>31.0</td>\n",
       "    </tr>\n",
       "    <tr>\n",
       "      <th>semana</th>\n",
       "      <td>1332.0</td>\n",
       "      <td>24.669670</td>\n",
       "      <td>15.193435</td>\n",
       "      <td>1.0</td>\n",
       "      <td>11.0</td>\n",
       "      <td>24.0</td>\n",
       "      <td>38.0</td>\n",
       "      <td>53.0</td>\n",
       "    </tr>\n",
       "    <tr>\n",
       "      <th>total_muertes_reportadas</th>\n",
       "      <td>1332.0</td>\n",
       "      <td>13630.075075</td>\n",
       "      <td>27946.362998</td>\n",
       "      <td>1586.0</td>\n",
       "      <td>2292.5</td>\n",
       "      <td>4433.5</td>\n",
       "      <td>12970.0</td>\n",
       "      <td>205125.0</td>\n",
       "    </tr>\n",
       "    <tr>\n",
       "      <th>total_muertes_reportadas_por_covid</th>\n",
       "      <td>1332.0</td>\n",
       "      <td>920.036036</td>\n",
       "      <td>4573.413708</td>\n",
       "      <td>0.0</td>\n",
       "      <td>0.0</td>\n",
       "      <td>0.0</td>\n",
       "      <td>25.5</td>\n",
       "      <td>82266.0</td>\n",
       "    </tr>\n",
       "  </tbody>\n",
       "</table>\n",
       "</div>"
      ],
      "text/plain": [
       "                                     count          mean           std  \\\n",
       "dias                                1332.0      8.424925      5.605587   \n",
       "semana                              1332.0     24.669670     15.193435   \n",
       "total_muertes_reportadas            1332.0  13630.075075  27946.362998   \n",
       "total_muertes_reportadas_por_covid  1332.0    920.036036   4573.413708   \n",
       "\n",
       "                                       min     25%     50%      75%       max  \n",
       "dias                                   7.0     7.0     7.0      7.0      31.0  \n",
       "semana                                 1.0    11.0    24.0     38.0      53.0  \n",
       "total_muertes_reportadas            1586.0  2292.5  4433.5  12970.0  205125.0  \n",
       "total_muertes_reportadas_por_covid     0.0     0.0     0.0     25.5   82266.0  "
      ]
     },
     "execution_count": 48,
     "metadata": {},
     "output_type": "execute_result"
    }
   ],
   "source": [
    "df_muertes_covid.describe().T"
   ]
  },
  {
   "cell_type": "markdown",
   "metadata": {},
   "source": [
    "**Conclusão**\n",
    "A base *df_muertes_covid* está sem erros como nulos ou valores incoerentes."
   ]
  },
  {
   "cell_type": "markdown",
   "metadata": {},
   "source": [
    "### Criando novos atributos\n",
    "\n",
    "A partir do atributo *fecha_inicio*, vou construir os seguintes atributos derivados desse atributo de data:\n",
    "\n",
    "1. fecha_inicio_ano\n",
    "1. fecha_inicio_ano_mes\n",
    "\n",
    "A partir do atributo *total_muertes_reportadas_por_covid*, criar o atributo *booleano*:\n",
    "1. periodo_com_covid"
   ]
  },
  {
   "cell_type": "code",
   "execution_count": 49,
   "metadata": {},
   "outputs": [
    {
     "data": {
      "text/html": [
       "<div>\n",
       "<style scoped>\n",
       "    .dataframe tbody tr th:only-of-type {\n",
       "        vertical-align: middle;\n",
       "    }\n",
       "\n",
       "    .dataframe tbody tr th {\n",
       "        vertical-align: top;\n",
       "    }\n",
       "\n",
       "    .dataframe thead th {\n",
       "        text-align: right;\n",
       "    }\n",
       "</style>\n",
       "<table border=\"1\" class=\"dataframe\">\n",
       "  <thead>\n",
       "    <tr style=\"text-align: right;\">\n",
       "      <th></th>\n",
       "      <th>pais</th>\n",
       "      <th>fecha_inicio</th>\n",
       "      <th>fecha_fin</th>\n",
       "      <th>dias</th>\n",
       "      <th>semana</th>\n",
       "      <th>total_muertes_reportadas</th>\n",
       "      <th>total_muertes_reportadas_por_covid</th>\n",
       "      <th>fecha_inicio_ano</th>\n",
       "      <th>fecha_inicio_ano_mes</th>\n",
       "      <th>periodo_com_covid</th>\n",
       "    </tr>\n",
       "  </thead>\n",
       "  <tbody>\n",
       "    <tr>\n",
       "      <th>0</th>\n",
       "      <td>Mexico</td>\n",
       "      <td>2014-12-29</td>\n",
       "      <td>2015-01-04</td>\n",
       "      <td>7</td>\n",
       "      <td>1</td>\n",
       "      <td>15101</td>\n",
       "      <td>0</td>\n",
       "      <td>2014</td>\n",
       "      <td>201412</td>\n",
       "      <td>0</td>\n",
       "    </tr>\n",
       "    <tr>\n",
       "      <th>1</th>\n",
       "      <td>Mexico</td>\n",
       "      <td>2015-01-05</td>\n",
       "      <td>2015-01-11</td>\n",
       "      <td>7</td>\n",
       "      <td>2</td>\n",
       "      <td>15449</td>\n",
       "      <td>0</td>\n",
       "      <td>2015</td>\n",
       "      <td>201501</td>\n",
       "      <td>0</td>\n",
       "    </tr>\n",
       "    <tr>\n",
       "      <th>2</th>\n",
       "      <td>Mexico</td>\n",
       "      <td>2015-01-12</td>\n",
       "      <td>2015-01-18</td>\n",
       "      <td>7</td>\n",
       "      <td>3</td>\n",
       "      <td>14820</td>\n",
       "      <td>0</td>\n",
       "      <td>2015</td>\n",
       "      <td>201501</td>\n",
       "      <td>0</td>\n",
       "    </tr>\n",
       "    <tr>\n",
       "      <th>3</th>\n",
       "      <td>Mexico</td>\n",
       "      <td>2015-01-19</td>\n",
       "      <td>2015-01-25</td>\n",
       "      <td>7</td>\n",
       "      <td>4</td>\n",
       "      <td>14172</td>\n",
       "      <td>0</td>\n",
       "      <td>2015</td>\n",
       "      <td>201501</td>\n",
       "      <td>0</td>\n",
       "    </tr>\n",
       "    <tr>\n",
       "      <th>4</th>\n",
       "      <td>Mexico</td>\n",
       "      <td>2015-01-26</td>\n",
       "      <td>2015-02-01</td>\n",
       "      <td>7</td>\n",
       "      <td>5</td>\n",
       "      <td>13628</td>\n",
       "      <td>0</td>\n",
       "      <td>2015</td>\n",
       "      <td>201501</td>\n",
       "      <td>0</td>\n",
       "    </tr>\n",
       "  </tbody>\n",
       "</table>\n",
       "</div>"
      ],
      "text/plain": [
       "     pais fecha_inicio  fecha_fin  dias  semana  total_muertes_reportadas  \\\n",
       "0  Mexico   2014-12-29 2015-01-04     7       1                     15101   \n",
       "1  Mexico   2015-01-05 2015-01-11     7       2                     15449   \n",
       "2  Mexico   2015-01-12 2015-01-18     7       3                     14820   \n",
       "3  Mexico   2015-01-19 2015-01-25     7       4                     14172   \n",
       "4  Mexico   2015-01-26 2015-02-01     7       5                     13628   \n",
       "\n",
       "   total_muertes_reportadas_por_covid  fecha_inicio_ano fecha_inicio_ano_mes  \\\n",
       "0                                   0              2014               201412   \n",
       "1                                   0              2015               201501   \n",
       "2                                   0              2015               201501   \n",
       "3                                   0              2015               201501   \n",
       "4                                   0              2015               201501   \n",
       "\n",
       "   periodo_com_covid  \n",
       "0                  0  \n",
       "1                  0  \n",
       "2                  0  \n",
       "3                  0  \n",
       "4                  0  "
      ]
     },
     "execution_count": 49,
     "metadata": {},
     "output_type": "execute_result"
    }
   ],
   "source": [
    "# Criação dos atributos:\n",
    "\n",
    "df_muertes_covid['fecha_inicio_ano'] = df_muertes_covid['fecha_inicio'].dt.year\n",
    "df_muertes_covid['fecha_inicio_ano_mes'] = df_muertes_covid['fecha_inicio'].dt.year.astype(str) + df_muertes_covid['fecha_inicio'].dt.month.astype(str).str.zfill(2)\n",
    "df_muertes_covid['periodo_com_covid'] = np.where(\n",
    "    df_muertes_covid['total_muertes_reportadas_por_covid']!=0, 1, 0\n",
    "    )\n",
    "df_muertes_covid.head()"
   ]
  },
  {
   "cell_type": "code",
   "execution_count": 50,
   "metadata": {},
   "outputs": [
    {
     "data": {
      "text/html": [
       "<div>\n",
       "<style scoped>\n",
       "    .dataframe tbody tr th:only-of-type {\n",
       "        vertical-align: middle;\n",
       "    }\n",
       "\n",
       "    .dataframe tbody tr th {\n",
       "        vertical-align: top;\n",
       "    }\n",
       "\n",
       "    .dataframe thead th {\n",
       "        text-align: right;\n",
       "    }\n",
       "</style>\n",
       "<table border=\"1\" class=\"dataframe\">\n",
       "  <thead>\n",
       "    <tr style=\"text-align: right;\">\n",
       "      <th></th>\n",
       "      <th>pais</th>\n",
       "      <th>fecha_inicio_ano</th>\n",
       "      <th>total_muertes_reportadas</th>\n",
       "      <th>total_muertes_reportadas_por_covid</th>\n",
       "    </tr>\n",
       "  </thead>\n",
       "  <tbody>\n",
       "    <tr>\n",
       "      <th>0</th>\n",
       "      <td>Brazil</td>\n",
       "      <td>2015</td>\n",
       "      <td>1264175</td>\n",
       "      <td>0</td>\n",
       "    </tr>\n",
       "    <tr>\n",
       "      <th>1</th>\n",
       "      <td>Brazil</td>\n",
       "      <td>2016</td>\n",
       "      <td>1309774</td>\n",
       "      <td>0</td>\n",
       "    </tr>\n",
       "    <tr>\n",
       "      <th>2</th>\n",
       "      <td>Brazil</td>\n",
       "      <td>2017</td>\n",
       "      <td>1312663</td>\n",
       "      <td>0</td>\n",
       "    </tr>\n",
       "    <tr>\n",
       "      <th>3</th>\n",
       "      <td>Brazil</td>\n",
       "      <td>2018</td>\n",
       "      <td>1316719</td>\n",
       "      <td>0</td>\n",
       "    </tr>\n",
       "    <tr>\n",
       "      <th>4</th>\n",
       "      <td>Brazil</td>\n",
       "      <td>2019</td>\n",
       "      <td>1349802</td>\n",
       "      <td>0</td>\n",
       "    </tr>\n",
       "    <tr>\n",
       "      <th>5</th>\n",
       "      <td>Brazil</td>\n",
       "      <td>2020</td>\n",
       "      <td>1581645</td>\n",
       "      <td>194949</td>\n",
       "    </tr>\n",
       "    <tr>\n",
       "      <th>6</th>\n",
       "      <td>Brazil</td>\n",
       "      <td>2021</td>\n",
       "      <td>1491943</td>\n",
       "      <td>401800</td>\n",
       "    </tr>\n",
       "    <tr>\n",
       "      <th>7</th>\n",
       "      <td>Chile</td>\n",
       "      <td>2016</td>\n",
       "      <td>103375</td>\n",
       "      <td>0</td>\n",
       "    </tr>\n",
       "  </tbody>\n",
       "</table>\n",
       "</div>"
      ],
      "text/plain": [
       "     pais  fecha_inicio_ano  total_muertes_reportadas  \\\n",
       "0  Brazil              2015                   1264175   \n",
       "1  Brazil              2016                   1309774   \n",
       "2  Brazil              2017                   1312663   \n",
       "3  Brazil              2018                   1316719   \n",
       "4  Brazil              2019                   1349802   \n",
       "5  Brazil              2020                   1581645   \n",
       "6  Brazil              2021                   1491943   \n",
       "7   Chile              2016                    103375   \n",
       "\n",
       "   total_muertes_reportadas_por_covid  \n",
       "0                                   0  \n",
       "1                                   0  \n",
       "2                                   0  \n",
       "3                                   0  \n",
       "4                                   0  \n",
       "5                              194949  \n",
       "6                              401800  \n",
       "7                                   0  "
      ]
     },
     "execution_count": 50,
     "metadata": {},
     "output_type": "execute_result"
    }
   ],
   "source": [
    "# Criação da tabela agregada por ano por país\n",
    "\n",
    "df_muertes_covid_agg_yearly = df_muertes_covid.groupby(['pais', 'fecha_inicio_ano'])[[\n",
    "    'total_muertes_reportadas', 'total_muertes_reportadas_por_covid'\n",
    "    ]].agg({'total_muertes_reportadas': 'sum', 'total_muertes_reportadas_por_covid': 'sum'}).reset_index()\n",
    "\n",
    "df_muertes_covid_agg_yearly.head(8)"
   ]
  },
  {
   "cell_type": "code",
   "execution_count": 51,
   "metadata": {},
   "outputs": [
    {
     "data": {
      "text/html": [
       "<div>\n",
       "<style scoped>\n",
       "    .dataframe tbody tr th:only-of-type {\n",
       "        vertical-align: middle;\n",
       "    }\n",
       "\n",
       "    .dataframe tbody tr th {\n",
       "        vertical-align: top;\n",
       "    }\n",
       "\n",
       "    .dataframe thead th {\n",
       "        text-align: right;\n",
       "    }\n",
       "</style>\n",
       "<table border=\"1\" class=\"dataframe\">\n",
       "  <thead>\n",
       "    <tr style=\"text-align: right;\">\n",
       "      <th></th>\n",
       "      <th>pais</th>\n",
       "      <th>fecha_inicio_ano_mes</th>\n",
       "      <th>total_muertes_reportadas</th>\n",
       "      <th>total_muertes_reportadas_por_covid</th>\n",
       "    </tr>\n",
       "  </thead>\n",
       "  <tbody>\n",
       "    <tr>\n",
       "      <th>0</th>\n",
       "      <td>Brazil</td>\n",
       "      <td>201501</td>\n",
       "      <td>106695</td>\n",
       "      <td>0</td>\n",
       "    </tr>\n",
       "    <tr>\n",
       "      <th>1</th>\n",
       "      <td>Brazil</td>\n",
       "      <td>201502</td>\n",
       "      <td>90612</td>\n",
       "      <td>0</td>\n",
       "    </tr>\n",
       "    <tr>\n",
       "      <th>2</th>\n",
       "      <td>Brazil</td>\n",
       "      <td>201503</td>\n",
       "      <td>102473</td>\n",
       "      <td>0</td>\n",
       "    </tr>\n",
       "    <tr>\n",
       "      <th>3</th>\n",
       "      <td>Brazil</td>\n",
       "      <td>201504</td>\n",
       "      <td>105114</td>\n",
       "      <td>0</td>\n",
       "    </tr>\n",
       "    <tr>\n",
       "      <th>4</th>\n",
       "      <td>Brazil</td>\n",
       "      <td>201505</td>\n",
       "      <td>114042</td>\n",
       "      <td>0</td>\n",
       "    </tr>\n",
       "  </tbody>\n",
       "</table>\n",
       "</div>"
      ],
      "text/plain": [
       "     pais fecha_inicio_ano_mes  total_muertes_reportadas  \\\n",
       "0  Brazil               201501                    106695   \n",
       "1  Brazil               201502                     90612   \n",
       "2  Brazil               201503                    102473   \n",
       "3  Brazil               201504                    105114   \n",
       "4  Brazil               201505                    114042   \n",
       "\n",
       "   total_muertes_reportadas_por_covid  \n",
       "0                                   0  \n",
       "1                                   0  \n",
       "2                                   0  \n",
       "3                                   0  \n",
       "4                                   0  "
      ]
     },
     "execution_count": 51,
     "metadata": {},
     "output_type": "execute_result"
    }
   ],
   "source": [
    "# Criação da tabela agregada por ano e mês por país\n",
    "\n",
    "df_muertes_covid_agg_monthly = df_muertes_covid.groupby(['pais', 'fecha_inicio_ano_mes'])[[\n",
    "    'total_muertes_reportadas', 'total_muertes_reportadas_por_covid'\n",
    "    ]].agg({'total_muertes_reportadas': 'sum', 'total_muertes_reportadas_por_covid': 'sum'}).reset_index()\n",
    "\n",
    "df_muertes_covid_agg_monthly.head()"
   ]
  },
  {
   "cell_type": "code",
   "execution_count": 52,
   "metadata": {},
   "outputs": [],
   "source": [
    "# df_muertes_covid_agg_country.columns"
   ]
  },
  {
   "cell_type": "code",
   "execution_count": 53,
   "metadata": {},
   "outputs": [
    {
     "data": {
      "text/html": [
       "<div>\n",
       "<style scoped>\n",
       "    .dataframe tbody tr th:only-of-type {\n",
       "        vertical-align: middle;\n",
       "    }\n",
       "\n",
       "    .dataframe tbody tr th {\n",
       "        vertical-align: top;\n",
       "    }\n",
       "\n",
       "    .dataframe thead th {\n",
       "        text-align: right;\n",
       "    }\n",
       "</style>\n",
       "<table border=\"1\" class=\"dataframe\">\n",
       "  <thead>\n",
       "    <tr style=\"text-align: right;\">\n",
       "      <th></th>\n",
       "      <th>pais</th>\n",
       "      <th>periodo_com_covid</th>\n",
       "      <th>total_muertes_reportadas_sum</th>\n",
       "      <th>total_muertes_reportadas_mean</th>\n",
       "      <th>total_muertes_reportadas_por_covid_sum</th>\n",
       "      <th>total_muertes_reportadas_por_covid_mean</th>\n",
       "    </tr>\n",
       "  </thead>\n",
       "  <tbody>\n",
       "    <tr>\n",
       "      <th>0</th>\n",
       "      <td>Brazil</td>\n",
       "      <td>0</td>\n",
       "      <td>6772942</td>\n",
       "      <td>109241</td>\n",
       "      <td>0</td>\n",
       "      <td>0</td>\n",
       "    </tr>\n",
       "    <tr>\n",
       "      <th>1</th>\n",
       "      <td>Brazil</td>\n",
       "      <td>1</td>\n",
       "      <td>2853779</td>\n",
       "      <td>150198</td>\n",
       "      <td>596749</td>\n",
       "      <td>31407</td>\n",
       "    </tr>\n",
       "    <tr>\n",
       "      <th>2</th>\n",
       "      <td>Chile</td>\n",
       "      <td>0</td>\n",
       "      <td>446877</td>\n",
       "      <td>2040</td>\n",
       "      <td>0</td>\n",
       "      <td>0</td>\n",
       "    </tr>\n",
       "    <tr>\n",
       "      <th>3</th>\n",
       "      <td>Chile</td>\n",
       "      <td>1</td>\n",
       "      <td>218650</td>\n",
       "      <td>2602</td>\n",
       "      <td>37669</td>\n",
       "      <td>448</td>\n",
       "    </tr>\n",
       "    <tr>\n",
       "      <th>4</th>\n",
       "      <td>Colombia</td>\n",
       "      <td>0</td>\n",
       "      <td>1204055</td>\n",
       "      <td>4426</td>\n",
       "      <td>0</td>\n",
       "      <td>0</td>\n",
       "    </tr>\n",
       "    <tr>\n",
       "      <th>5</th>\n",
       "      <td>Colombia</td>\n",
       "      <td>1</td>\n",
       "      <td>468405</td>\n",
       "      <td>6788</td>\n",
       "      <td>112826</td>\n",
       "      <td>1635</td>\n",
       "    </tr>\n",
       "    <tr>\n",
       "      <th>6</th>\n",
       "      <td>Mexico</td>\n",
       "      <td>0</td>\n",
       "      <td>3664059</td>\n",
       "      <td>13470</td>\n",
       "      <td>0</td>\n",
       "      <td>0</td>\n",
       "    </tr>\n",
       "    <tr>\n",
       "      <th>7</th>\n",
       "      <td>Mexico</td>\n",
       "      <td>1</td>\n",
       "      <td>1762789</td>\n",
       "      <td>21497</td>\n",
       "      <td>277814</td>\n",
       "      <td>3387</td>\n",
       "    </tr>\n",
       "    <tr>\n",
       "      <th>8</th>\n",
       "      <td>Peru</td>\n",
       "      <td>0</td>\n",
       "      <td>347000</td>\n",
       "      <td>2103</td>\n",
       "      <td>0</td>\n",
       "      <td>0</td>\n",
       "    </tr>\n",
       "    <tr>\n",
       "      <th>9</th>\n",
       "      <td>Peru</td>\n",
       "      <td>1</td>\n",
       "      <td>416704</td>\n",
       "      <td>4735</td>\n",
       "      <td>200430</td>\n",
       "      <td>2277</td>\n",
       "    </tr>\n",
       "  </tbody>\n",
       "</table>\n",
       "</div>"
      ],
      "text/plain": [
       "       pais  periodo_com_covid  total_muertes_reportadas_sum  \\\n",
       "0    Brazil                  0                       6772942   \n",
       "1    Brazil                  1                       2853779   \n",
       "2     Chile                  0                        446877   \n",
       "3     Chile                  1                        218650   \n",
       "4  Colombia                  0                       1204055   \n",
       "5  Colombia                  1                        468405   \n",
       "6    Mexico                  0                       3664059   \n",
       "7    Mexico                  1                       1762789   \n",
       "8      Peru                  0                        347000   \n",
       "9      Peru                  1                        416704   \n",
       "\n",
       "   total_muertes_reportadas_mean  total_muertes_reportadas_por_covid_sum  \\\n",
       "0                         109241                                       0   \n",
       "1                         150198                                  596749   \n",
       "2                           2040                                       0   \n",
       "3                           2602                                   37669   \n",
       "4                           4426                                       0   \n",
       "5                           6788                                  112826   \n",
       "6                          13470                                       0   \n",
       "7                          21497                                  277814   \n",
       "8                           2103                                       0   \n",
       "9                           4735                                  200430   \n",
       "\n",
       "   total_muertes_reportadas_por_covid_mean  \n",
       "0                                        0  \n",
       "1                                    31407  \n",
       "2                                        0  \n",
       "3                                      448  \n",
       "4                                        0  \n",
       "5                                     1635  \n",
       "6                                        0  \n",
       "7                                     3387  \n",
       "8                                        0  \n",
       "9                                     2277  "
      ]
     },
     "execution_count": 53,
     "metadata": {},
     "output_type": "execute_result"
    }
   ],
   "source": [
    "df_muertes_covid_agg_country = df_muertes_covid.groupby(\n",
    "    ['pais', 'periodo_com_covid']\n",
    "    )[['total_muertes_reportadas', 'total_muertes_reportadas_por_covid']].agg(\n",
    "        {'total_muertes_reportadas': ['sum', 'mean'], 'total_muertes_reportadas_por_covid': ['sum', 'mean']}\n",
    "        ).astype(int).reset_index()\n",
    "\n",
    "df_muertes_covid_agg_country.columns = [\n",
    "    'pais', 'periodo_com_covid', 'total_muertes_reportadas_sum', 'total_muertes_reportadas_mean',\n",
    "    'total_muertes_reportadas_por_covid_sum', 'total_muertes_reportadas_por_covid_mean'\n",
    "    ]\n",
    "\n",
    "# Comentei a linha abaixo. Ela me ajudou a criar a lista que renomeou o nome das columnas.\n",
    "# TODO: Como deixar isso automático?\n",
    "# [column[0]+'_'+column[1] for column in df_muertes_covid_agg_country.columns.to_flat_index() if column[1] != '']\n",
    "\n",
    "df_muertes_covid_agg_country"
   ]
  },
  {
   "cell_type": "markdown",
   "metadata": {},
   "source": [
    "### Juntando as informações das tabelas *df_muertes_covid_agg_country* e *df_poblacion*"
   ]
  },
  {
   "cell_type": "code",
   "execution_count": 54,
   "metadata": {},
   "outputs": [
    {
     "name": "stdout",
     "output_type": "stream",
     "text": [
      "10\n",
      "5\n",
      "10\n"
     ]
    },
    {
     "data": {
      "text/html": [
       "<div>\n",
       "<style scoped>\n",
       "    .dataframe tbody tr th:only-of-type {\n",
       "        vertical-align: middle;\n",
       "    }\n",
       "\n",
       "    .dataframe tbody tr th {\n",
       "        vertical-align: top;\n",
       "    }\n",
       "\n",
       "    .dataframe thead th {\n",
       "        text-align: right;\n",
       "    }\n",
       "</style>\n",
       "<table border=\"1\" class=\"dataframe\">\n",
       "  <thead>\n",
       "    <tr style=\"text-align: right;\">\n",
       "      <th></th>\n",
       "      <th>pais</th>\n",
       "      <th>periodo_com_covid</th>\n",
       "      <th>total_muertes_reportadas_sum</th>\n",
       "      <th>total_muertes_reportadas_mean</th>\n",
       "      <th>total_muertes_reportadas_por_covid_sum</th>\n",
       "      <th>total_muertes_reportadas_por_covid_mean</th>\n",
       "      <th>poblacion</th>\n",
       "    </tr>\n",
       "  </thead>\n",
       "  <tbody>\n",
       "    <tr>\n",
       "      <th>0</th>\n",
       "      <td>Brazil</td>\n",
       "      <td>0</td>\n",
       "      <td>6772942</td>\n",
       "      <td>109241</td>\n",
       "      <td>0</td>\n",
       "      <td>0</td>\n",
       "      <td>213993441</td>\n",
       "    </tr>\n",
       "    <tr>\n",
       "      <th>1</th>\n",
       "      <td>Brazil</td>\n",
       "      <td>1</td>\n",
       "      <td>2853779</td>\n",
       "      <td>150198</td>\n",
       "      <td>596749</td>\n",
       "      <td>31407</td>\n",
       "      <td>213993441</td>\n",
       "    </tr>\n",
       "    <tr>\n",
       "      <th>2</th>\n",
       "      <td>Chile</td>\n",
       "      <td>0</td>\n",
       "      <td>446877</td>\n",
       "      <td>2040</td>\n",
       "      <td>0</td>\n",
       "      <td>0</td>\n",
       "      <td>19212362</td>\n",
       "    </tr>\n",
       "    <tr>\n",
       "      <th>3</th>\n",
       "      <td>Chile</td>\n",
       "      <td>1</td>\n",
       "      <td>218650</td>\n",
       "      <td>2602</td>\n",
       "      <td>37669</td>\n",
       "      <td>448</td>\n",
       "      <td>19212362</td>\n",
       "    </tr>\n",
       "    <tr>\n",
       "      <th>4</th>\n",
       "      <td>Colombia</td>\n",
       "      <td>0</td>\n",
       "      <td>1204055</td>\n",
       "      <td>4426</td>\n",
       "      <td>0</td>\n",
       "      <td>0</td>\n",
       "      <td>51265841</td>\n",
       "    </tr>\n",
       "    <tr>\n",
       "      <th>5</th>\n",
       "      <td>Colombia</td>\n",
       "      <td>1</td>\n",
       "      <td>468405</td>\n",
       "      <td>6788</td>\n",
       "      <td>112826</td>\n",
       "      <td>1635</td>\n",
       "      <td>51265841</td>\n",
       "    </tr>\n",
       "    <tr>\n",
       "      <th>6</th>\n",
       "      <td>Mexico</td>\n",
       "      <td>0</td>\n",
       "      <td>3664059</td>\n",
       "      <td>13470</td>\n",
       "      <td>0</td>\n",
       "      <td>0</td>\n",
       "      <td>130262220</td>\n",
       "    </tr>\n",
       "    <tr>\n",
       "      <th>7</th>\n",
       "      <td>Mexico</td>\n",
       "      <td>1</td>\n",
       "      <td>1762789</td>\n",
       "      <td>21497</td>\n",
       "      <td>277814</td>\n",
       "      <td>3387</td>\n",
       "      <td>130262220</td>\n",
       "    </tr>\n",
       "    <tr>\n",
       "      <th>8</th>\n",
       "      <td>Peru</td>\n",
       "      <td>0</td>\n",
       "      <td>347000</td>\n",
       "      <td>2103</td>\n",
       "      <td>0</td>\n",
       "      <td>0</td>\n",
       "      <td>33359415</td>\n",
       "    </tr>\n",
       "    <tr>\n",
       "      <th>9</th>\n",
       "      <td>Peru</td>\n",
       "      <td>1</td>\n",
       "      <td>416704</td>\n",
       "      <td>4735</td>\n",
       "      <td>200430</td>\n",
       "      <td>2277</td>\n",
       "      <td>33359415</td>\n",
       "    </tr>\n",
       "  </tbody>\n",
       "</table>\n",
       "</div>"
      ],
      "text/plain": [
       "       pais  periodo_com_covid  total_muertes_reportadas_sum  \\\n",
       "0    Brazil                  0                       6772942   \n",
       "1    Brazil                  1                       2853779   \n",
       "2     Chile                  0                        446877   \n",
       "3     Chile                  1                        218650   \n",
       "4  Colombia                  0                       1204055   \n",
       "5  Colombia                  1                        468405   \n",
       "6    Mexico                  0                       3664059   \n",
       "7    Mexico                  1                       1762789   \n",
       "8      Peru                  0                        347000   \n",
       "9      Peru                  1                        416704   \n",
       "\n",
       "   total_muertes_reportadas_mean  total_muertes_reportadas_por_covid_sum  \\\n",
       "0                         109241                                       0   \n",
       "1                         150198                                  596749   \n",
       "2                           2040                                       0   \n",
       "3                           2602                                   37669   \n",
       "4                           4426                                       0   \n",
       "5                           6788                                  112826   \n",
       "6                          13470                                       0   \n",
       "7                          21497                                  277814   \n",
       "8                           2103                                       0   \n",
       "9                           4735                                  200430   \n",
       "\n",
       "   total_muertes_reportadas_por_covid_mean  poblacion  \n",
       "0                                        0  213993441  \n",
       "1                                    31407  213993441  \n",
       "2                                        0   19212362  \n",
       "3                                      448   19212362  \n",
       "4                                        0   51265841  \n",
       "5                                     1635   51265841  \n",
       "6                                        0  130262220  \n",
       "7                                     3387  130262220  \n",
       "8                                        0   33359415  \n",
       "9                                     2277   33359415  "
      ]
     },
     "execution_count": 54,
     "metadata": {},
     "output_type": "execute_result"
    }
   ],
   "source": [
    "print(len(df_muertes_covid_agg_country))\n",
    "print(len(df_poblacion))\n",
    "print(len(df_muertes_covid_agg_country.merge(df_poblacion, how='left', on='pais')))\n",
    "\n",
    "df_muertes_covid_agg_country_merged = df_muertes_covid_agg_country.merge(df_poblacion, how='left', on='pais')\n",
    "df_muertes_covid_agg_country_merged"
   ]
  },
  {
   "cell_type": "markdown",
   "metadata": {},
   "source": [
    "## Entregáveis:\n",
    "\n",
    "### 1. Una tabla comparativa con el total de muertes reportadas por COVID-19 por cada 100 mil habitantes, el total de “exceso de muertes” por cada 100 mil habitantes y la diferencia entre ambas cifras, por país.\n",
    "\n",
    "1.1. Definindo o excesso de mortes por país."
   ]
  },
  {
   "cell_type": "code",
   "execution_count": 55,
   "metadata": {},
   "outputs": [
    {
     "data": {
      "text/html": [
       "<div>\n",
       "<style scoped>\n",
       "    .dataframe tbody tr th:only-of-type {\n",
       "        vertical-align: middle;\n",
       "    }\n",
       "\n",
       "    .dataframe tbody tr th {\n",
       "        vertical-align: top;\n",
       "    }\n",
       "\n",
       "    .dataframe thead th {\n",
       "        text-align: right;\n",
       "    }\n",
       "</style>\n",
       "<table border=\"1\" class=\"dataframe\">\n",
       "  <thead>\n",
       "    <tr style=\"text-align: right;\">\n",
       "      <th></th>\n",
       "      <th>pais</th>\n",
       "      <th>fecha_inicio_ano</th>\n",
       "      <th>total_muertes_reportadas</th>\n",
       "      <th>total_muertes_reportadas_por_covid</th>\n",
       "    </tr>\n",
       "  </thead>\n",
       "  <tbody>\n",
       "    <tr>\n",
       "      <th>0</th>\n",
       "      <td>Brazil</td>\n",
       "      <td>2015</td>\n",
       "      <td>1264175</td>\n",
       "      <td>0</td>\n",
       "    </tr>\n",
       "    <tr>\n",
       "      <th>1</th>\n",
       "      <td>Brazil</td>\n",
       "      <td>2016</td>\n",
       "      <td>1309774</td>\n",
       "      <td>0</td>\n",
       "    </tr>\n",
       "    <tr>\n",
       "      <th>2</th>\n",
       "      <td>Brazil</td>\n",
       "      <td>2017</td>\n",
       "      <td>1312663</td>\n",
       "      <td>0</td>\n",
       "    </tr>\n",
       "    <tr>\n",
       "      <th>3</th>\n",
       "      <td>Brazil</td>\n",
       "      <td>2018</td>\n",
       "      <td>1316719</td>\n",
       "      <td>0</td>\n",
       "    </tr>\n",
       "    <tr>\n",
       "      <th>4</th>\n",
       "      <td>Brazil</td>\n",
       "      <td>2019</td>\n",
       "      <td>1349802</td>\n",
       "      <td>0</td>\n",
       "    </tr>\n",
       "  </tbody>\n",
       "</table>\n",
       "</div>"
      ],
      "text/plain": [
       "     pais  fecha_inicio_ano  total_muertes_reportadas  \\\n",
       "0  Brazil              2015                   1264175   \n",
       "1  Brazil              2016                   1309774   \n",
       "2  Brazil              2017                   1312663   \n",
       "3  Brazil              2018                   1316719   \n",
       "4  Brazil              2019                   1349802   \n",
       "\n",
       "   total_muertes_reportadas_por_covid  \n",
       "0                                   0  \n",
       "1                                   0  \n",
       "2                                   0  \n",
       "3                                   0  \n",
       "4                                   0  "
      ]
     },
     "execution_count": 55,
     "metadata": {},
     "output_type": "execute_result"
    }
   ],
   "source": [
    "df_muertes_covid_agg_yearly.head()"
   ]
  },
  {
   "cell_type": "code",
   "execution_count": 56,
   "metadata": {},
   "outputs": [
    {
     "data": {
      "image/png": "[encoded data removed]",
      "text/plain": [
       "<Figure size 1440x360 with 1 Axes>"
      ]
     },
     "metadata": {
      "needs_background": "light"
     },
     "output_type": "display_data"
    }
   ],
   "source": [
    "# As mortes por covid iniciam-se em 2020\n",
    "sns.barplot(data=df_muertes_covid_agg_yearly, x='fecha_inicio_ano', y='total_muertes_reportadas_por_covid', hue='pais');"
   ]
  },
  {
   "cell_type": "code",
   "execution_count": null,
   "metadata": {},
   "outputs": [],
   "source": []
  },
  {
   "cell_type": "code",
   "execution_count": 58,
   "metadata": {},
   "outputs": [
    {
     "data": {
      "text/html": [
       "<div>\n",
       "<style scoped>\n",
       "    .dataframe tbody tr th:only-of-type {\n",
       "        vertical-align: middle;\n",
       "    }\n",
       "\n",
       "    .dataframe tbody tr th {\n",
       "        vertical-align: top;\n",
       "    }\n",
       "\n",
       "    .dataframe thead th {\n",
       "        text-align: right;\n",
       "    }\n",
       "</style>\n",
       "<table border=\"1\" class=\"dataframe\">\n",
       "  <thead>\n",
       "    <tr style=\"text-align: right;\">\n",
       "      <th></th>\n",
       "      <th>pais</th>\n",
       "      <th>total_muertes_reportadas_median_2014_2019</th>\n",
       "    </tr>\n",
       "  </thead>\n",
       "  <tbody>\n",
       "    <tr>\n",
       "      <th>0</th>\n",
       "      <td>Brazil</td>\n",
       "      <td>1311218</td>\n",
       "    </tr>\n",
       "    <tr>\n",
       "      <th>1</th>\n",
       "      <td>Chile</td>\n",
       "      <td>106045</td>\n",
       "    </tr>\n",
       "    <tr>\n",
       "      <th>2</th>\n",
       "      <td>Colombia</td>\n",
       "      <td>221870</td>\n",
       "    </tr>\n",
       "    <tr>\n",
       "      <th>3</th>\n",
       "      <td>Mexico</td>\n",
       "      <td>680506</td>\n",
       "    </tr>\n",
       "    <tr>\n",
       "      <th>4</th>\n",
       "      <td>Peru</td>\n",
       "      <td>106727</td>\n",
       "    </tr>\n",
       "  </tbody>\n",
       "</table>\n",
       "</div>"
      ],
      "text/plain": [
       "       pais  total_muertes_reportadas_median_2014_2019\n",
       "0    Brazil                                    1311218\n",
       "1     Chile                                     106045\n",
       "2  Colombia                                     221870\n",
       "3    Mexico                                     680506\n",
       "4      Peru                                     106727"
      ]
     },
     "execution_count": 58,
     "metadata": {},
     "output_type": "execute_result"
    }
   ],
   "source": [
    "df_muertes_covid_final = df_muertes_covid_agg_yearly.loc[\n",
    "    df_muertes_covid_agg_yearly['fecha_inicio_ano'] < 2019, ['pais', 'total_muertes_reportadas']\n",
    "    ].groupby(by='pais').agg({'total_muertes_reportadas': 'median'}).astype(int).rename(\n",
    "        columns={'total_muertes_reportadas': 'total_muertes_reportadas_median_2014_2019'}\n",
    "        ).reset_index()\n",
    "\n",
    "# variável temporária para armazenar a tabela agregada com cálculos de 2021.\n",
    "temp_2021 = df_muertes_covid_agg_yearly.loc[\n",
    "    df_muertes_covid_agg_yearly['fecha_inicio_ano'] == 2021, ['pais', 'total_muertes_reportadas', 'total_muertes_reportadas_por_covid']\n",
    "    ].groupby(by='pais').agg({'total_muertes_reportadas': 'sum', 'total_muertes_reportadas_por_covid': 'sum'}).astype(int).rename(\n",
    "        columns={'total_muertes_reportadas': 'total_muertes_reportadas_2021', 'total_muertes_reportadas_por_covid': 'total_muertes_reportadas_por_covid_2021'}\n",
    "        ).reset_index()\n",
    "\n",
    "df_muertes_covid_final"
   ]
  },
  {
   "cell_type": "markdown",
   "metadata": {},
   "source": [
    "### 2. Un gráfico que muestre los datos de la tabla anterior en forma de gráfico de barras."
   ]
  },
  {
   "cell_type": "code",
   "execution_count": null,
   "metadata": {},
   "outputs": [],
   "source": []
  },
  {
   "cell_type": "markdown",
   "metadata": {},
   "source": [
    "### 3. Un gráfico por cada país que muestre el comparativo de la evolución en el tiempo de las muertes reportadas COVID-19 vs. el cálculo de “exceso de muertes” semana a semana, ambos datos por cada 100 mil habitantes."
   ]
  },
  {
   "cell_type": "code",
   "execution_count": 59,
   "metadata": {},
   "outputs": [
    {
     "data": {
      "text/html": [
       "<div>\n",
       "<style scoped>\n",
       "    .dataframe tbody tr th:only-of-type {\n",
       "        vertical-align: middle;\n",
       "    }\n",
       "\n",
       "    .dataframe tbody tr th {\n",
       "        vertical-align: top;\n",
       "    }\n",
       "\n",
       "    .dataframe thead th {\n",
       "        text-align: right;\n",
       "    }\n",
       "</style>\n",
       "<table border=\"1\" class=\"dataframe\">\n",
       "  <thead>\n",
       "    <tr style=\"text-align: right;\">\n",
       "      <th></th>\n",
       "      <th>pais</th>\n",
       "      <th>fecha_inicio</th>\n",
       "      <th>fecha_fin</th>\n",
       "      <th>dias</th>\n",
       "      <th>semana</th>\n",
       "      <th>total_muertes_reportadas</th>\n",
       "      <th>total_muertes_reportadas_por_covid</th>\n",
       "      <th>fecha_inicio_ano</th>\n",
       "      <th>fecha_inicio_ano_mes</th>\n",
       "      <th>periodo_com_covid</th>\n",
       "    </tr>\n",
       "  </thead>\n",
       "  <tbody>\n",
       "    <tr>\n",
       "      <th>0</th>\n",
       "      <td>Mexico</td>\n",
       "      <td>2014-12-29</td>\n",
       "      <td>2015-01-04</td>\n",
       "      <td>7</td>\n",
       "      <td>1</td>\n",
       "      <td>15101</td>\n",
       "      <td>0</td>\n",
       "      <td>2014</td>\n",
       "      <td>201412</td>\n",
       "      <td>0</td>\n",
       "    </tr>\n",
       "    <tr>\n",
       "      <th>1</th>\n",
       "      <td>Mexico</td>\n",
       "      <td>2015-01-05</td>\n",
       "      <td>2015-01-11</td>\n",
       "      <td>7</td>\n",
       "      <td>2</td>\n",
       "      <td>15449</td>\n",
       "      <td>0</td>\n",
       "      <td>2015</td>\n",
       "      <td>201501</td>\n",
       "      <td>0</td>\n",
       "    </tr>\n",
       "    <tr>\n",
       "      <th>2</th>\n",
       "      <td>Mexico</td>\n",
       "      <td>2015-01-12</td>\n",
       "      <td>2015-01-18</td>\n",
       "      <td>7</td>\n",
       "      <td>3</td>\n",
       "      <td>14820</td>\n",
       "      <td>0</td>\n",
       "      <td>2015</td>\n",
       "      <td>201501</td>\n",
       "      <td>0</td>\n",
       "    </tr>\n",
       "    <tr>\n",
       "      <th>3</th>\n",
       "      <td>Mexico</td>\n",
       "      <td>2015-01-19</td>\n",
       "      <td>2015-01-25</td>\n",
       "      <td>7</td>\n",
       "      <td>4</td>\n",
       "      <td>14172</td>\n",
       "      <td>0</td>\n",
       "      <td>2015</td>\n",
       "      <td>201501</td>\n",
       "      <td>0</td>\n",
       "    </tr>\n",
       "    <tr>\n",
       "      <th>4</th>\n",
       "      <td>Mexico</td>\n",
       "      <td>2015-01-26</td>\n",
       "      <td>2015-02-01</td>\n",
       "      <td>7</td>\n",
       "      <td>5</td>\n",
       "      <td>13628</td>\n",
       "      <td>0</td>\n",
       "      <td>2015</td>\n",
       "      <td>201501</td>\n",
       "      <td>0</td>\n",
       "    </tr>\n",
       "  </tbody>\n",
       "</table>\n",
       "</div>"
      ],
      "text/plain": [
       "     pais fecha_inicio  fecha_fin  dias  semana  total_muertes_reportadas  \\\n",
       "0  Mexico   2014-12-29 2015-01-04     7       1                     15101   \n",
       "1  Mexico   2015-01-05 2015-01-11     7       2                     15449   \n",
       "2  Mexico   2015-01-12 2015-01-18     7       3                     14820   \n",
       "3  Mexico   2015-01-19 2015-01-25     7       4                     14172   \n",
       "4  Mexico   2015-01-26 2015-02-01     7       5                     13628   \n",
       "\n",
       "   total_muertes_reportadas_por_covid  fecha_inicio_ano fecha_inicio_ano_mes  \\\n",
       "0                                   0              2014               201412   \n",
       "1                                   0              2015               201501   \n",
       "2                                   0              2015               201501   \n",
       "3                                   0              2015               201501   \n",
       "4                                   0              2015               201501   \n",
       "\n",
       "   periodo_com_covid  \n",
       "0                  0  \n",
       "1                  0  \n",
       "2                  0  \n",
       "3                  0  \n",
       "4                  0  "
      ]
     },
     "execution_count": 59,
     "metadata": {},
     "output_type": "execute_result"
    }
   ],
   "source": [
    "df_muertes_covid.head()"
   ]
  },
  {
   "cell_type": "code",
   "execution_count": 60,
   "metadata": {},
   "outputs": [
    {
     "name": "stderr",
     "output_type": "stream",
     "text": [
      "C:\\Users\\gusta\\AppData\\Local\\Temp/ipykernel_588/465231275.py:12: UserWarning: FixedFormatter should only be used together with FixedLocator\n",
      "  ax.set_xticklabels(labels=df_muertes_covid_2020['ano_semana'].unique(), rotation=90);\n"
     ]
    },
    {
     "data": {
      "image/png": "[encoded data removed]",
      "text/plain": [
       "<Figure size 1440x360 with 1 Axes>"
      ]
     },
     "metadata": {
      "needs_background": "light"
     },
     "output_type": "display_data"
    }
   ],
   "source": [
    "# Change the style of plot\n",
    "sns.set_context(\"paper\")\n",
    "\n",
    "df_muertes_covid_2020 = df_muertes_covid.loc[df_muertes_covid['fecha_inicio_ano']>2019, ['pais', 'fecha_inicio_ano', 'semana','total_muertes_reportadas', 'total_muertes_reportadas_por_covid']]\n",
    "\n",
    "df_muertes_covid_2020['ano_semana'] = df_muertes_covid_2020['fecha_inicio_ano'].astype(str) + df_muertes_covid_2020['semana'].astype(str).str.zfill(2)\n",
    "\n",
    "df_muertes_covid_2020.drop(columns=['fecha_inicio_ano', 'semana'], inplace=True)\n",
    "\n",
    "plt.rcParams[\"figure.figsize\"] = [20, 5]\n",
    "ax = sns.lineplot(data=df_muertes_covid_2020.loc[df_muertes_covid_2020['pais']!='Brazil'], x='ano_semana', y='total_muertes_reportadas', hue='pais');\n",
    "ax.set_xticklabels(labels=df_muertes_covid_2020['ano_semana'].unique(), rotation=90);"
   ]
  },
  {
   "cell_type": "code",
   "execution_count": 134,
   "metadata": {},
   "outputs": [
    {
     "data": {
      "image/png": "[encoded data removed]",
      "text/plain": [
       "<Figure size 1440x360 with 1 Axes>"
      ]
     },
     "metadata": {
      "needs_background": "light"
     },
     "output_type": "display_data"
    }
   ],
   "source": [
    "plt.rcParams[\"figure.figsize\"] = [20, 5]\n",
    "\n",
    "ax = sns.lineplot(\n",
    "    data=df_muertes_covid_2020.loc[df_muertes_covid_2020['pais']!='Brazil'],\n",
    "    x='ano_semana', y='total_muertes_reportadas',\n",
    "    hue='pais'\n",
    "    );\n",
    "\n",
    "ax.set_title(\n",
    "    \"Mortes por covid por semana - 2020 a 2021\",\n",
    "    fontdict={'size': 14, 'fontweight': 'bold'})\n",
    "\n",
    "ax.set_xticks(range(0, len(df_muertes_covid_2020['ano_semana'].unique())-1, 2))\n",
    "ax.set_xticklabels(labels=[tick for tick in df_muertes_covid_2020['ano_semana'].unique()][0:-1:2], rotation=90)\n",
    "ax.set_xlabel('ano-semana')\n",
    "ax.set_xlim('202002', '202144')\n",
    "ax.set_ylabel('Total de mortes por semana - un')\n",
    "ax.set_ylim(0, 50000)\n",
    "ax.legend(\n",
    "    # bbox_to_anchor=(1.005, 1),\n",
    "    loc='upper left', borderaxespad=0.25, fontsize='medium'\n",
    "    )\n",
    "\n",
    "textstr = f\"\"\"Aqui estão sendo\n",
    "contabilizados o valor absoluto\n",
    "de mortes reportadas. E, claro,\n",
    "quanto maior o país, maior a\n",
    "quantidade de mortes.\"\"\"\n",
    "\n",
    "props = dict(boxstyle='round', facecolor='wheat', alpha=0.25)\n",
    "ax.text(0.82, 0.92, textstr, transform=ax.transAxes, fontsize=12,\n",
    "        verticalalignment='top', bbox=props);"
   ]
  },
  {
   "cell_type": "code",
   "execution_count": 158,
   "metadata": {},
   "outputs": [
    {
     "data": {
      "application/vnd.plotly.v1+json": {
       "config": {
        "plotlyServerURL": "https://plot.ly"
       },
       "data": [
        {
         "hovertemplate": "pais=Mexico<br>ano_semana=%{x}<br>total_muertes_reportadas=%{y}<extra></extra>",
         "legendgroup": "Mexico",
         "line": {
          "color": "#636efa",
          "dash": "solid"
         },
         "marker": {
          "symbol": "circle"
         },
         "mode": "lines",
         "name": "Mexico",
         "orientation": "v",
         "showlegend": true,
         "type": "scatter",
         "x": [
          "202002",
          "202003",
          "202004",
          "202005",
          "202006",
          "202007",
          "202008",
          "202009",
          "202010",
          "202011",
          "202012",
          "202013",
          "202014",
          "202015",
          "202016",
          "202017",
          "202018",
          "202019",
          "202020",
          "202021",
          "202022",
          "202023",
          "202024",
          "202025",
          "202026",
          "202027",
          "202028",
          "202029",
          "202030",
          "202031",
          "202032",
          "202033",
          "202034",
          "202035",
          "202036",
          "202037",
          "202038",
          "202039",
          "202040",
          "202041",
          "202042",
          "202043",
          "202044",
          "202045",
          "202046",
          "202047",
          "202048",
          "202049",
          "202050",
          "202051",
          "202052",
          "202053",
          "202101",
          "202102",
          "202103",
          "202104",
          "202105",
          "202106",
          "202107",
          "202108",
          "202109",
          "202110",
          "202111",
          "202112",
          "202113",
          "202114",
          "202115",
          "202116",
          "202117",
          "202118",
          "202119",
          "202120",
          "202121",
          "202122",
          "202123",
          "202124",
          "202125",
          "202126",
          "202127",
          "202128",
          "202129",
          "202130",
          "202131",
          "202132",
          "202133",
          "202134",
          "202135",
          "202136",
          "202137",
          "202138",
          "202139",
          "202140"
         ],
         "xaxis": "x",
         "y": [
          16736,
          16195,
          15601,
          15217,
          15711,
          14875,
          14501,
          13916,
          14017,
          13857,
          13187,
          13698,
          13533,
          14030,
          14993,
          17068,
          18811,
          20622,
          22313,
          23231,
          23167,
          24121,
          24719,
          24945,
          24718,
          25495,
          26446,
          26446,
          25733,
          24795,
          23817,
          22666,
          21725,
          20837,
          20156,
          19490,
          18805,
          18933,
          18484,
          18834,
          18815,
          19567,
          20224,
          21326,
          21619,
          22294,
          22534,
          23495,
          25342,
          26560,
          29609,
          32637,
          36287,
          43427,
          44667,
          36617,
          31825,
          26858,
          25330,
          24010,
          20488,
          19752,
          18508,
          17801,
          16992,
          17364,
          16927,
          16037,
          15511,
          15125,
          14734,
          14264,
          14358,
          13943,
          14140,
          14261,
          14323,
          14582,
          15444,
          16410,
          18342,
          20721,
          23457,
          25423,
          26786,
          25778,
          25052,
          23022,
          21506,
          19587,
          17718,
          15572
         ],
         "yaxis": "y"
        },
        {
         "hovertemplate": "pais=Peru<br>ano_semana=%{x}<br>total_muertes_reportadas=%{y}<extra></extra>",
         "legendgroup": "Peru",
         "line": {
          "color": "#EF553B",
          "dash": "solid"
         },
         "marker": {
          "symbol": "circle"
         },
         "mode": "lines",
         "name": "Peru",
         "orientation": "v",
         "showlegend": true,
         "type": "scatter",
         "x": [
          "202002",
          "202003",
          "202004",
          "202005",
          "202006",
          "202007",
          "202008",
          "202009",
          "202010",
          "202011",
          "202012",
          "202013",
          "202014",
          "202015",
          "202016",
          "202017",
          "202018",
          "202019",
          "202020",
          "202021",
          "202022",
          "202023",
          "202024",
          "202025",
          "202026",
          "202027",
          "202028",
          "202029",
          "202030",
          "202031",
          "202032",
          "202033",
          "202034",
          "202035",
          "202036",
          "202037",
          "202038",
          "202039",
          "202040",
          "202041",
          "202042",
          "202043",
          "202044",
          "202045",
          "202046",
          "202047",
          "202048",
          "202049",
          "202050",
          "202051",
          "202052",
          "202053",
          "202101",
          "202102",
          "202103",
          "202104",
          "202105",
          "202106",
          "202107",
          "202108",
          "202109",
          "202110",
          "202111",
          "202112",
          "202113",
          "202114",
          "202115",
          "202116",
          "202117",
          "202118",
          "202119",
          "202120",
          "202121",
          "202122",
          "202123",
          "202124",
          "202125",
          "202126",
          "202127",
          "202128",
          "202129",
          "202130",
          "202131",
          "202132",
          "202133",
          "202134",
          "202135",
          "202136",
          "202137",
          "202138",
          "202139",
          "202140",
          "202141",
          "202142",
          "202143",
          "202144"
         ],
         "xaxis": "x",
         "y": [
          2428,
          2329,
          2358,
          2255,
          2330,
          2354,
          2346,
          2417,
          2409,
          2469,
          2185,
          2150,
          2390,
          2514,
          3096,
          3881,
          4752,
          5451,
          5967,
          6347,
          6554,
          6647,
          6725,
          6593,
          6159,
          6237,
          6493,
          6763,
          6778,
          6918,
          7120,
          6717,
          6128,
          5578,
          4730,
          4275,
          3885,
          3483,
          3235,
          3147,
          3001,
          2961,
          2794,
          2861,
          2850,
          2755,
          2635,
          2800,
          2964,
          3151,
          3253,
          3502,
          3985,
          4638,
          5704,
          6707,
          7021,
          7687,
          7711,
          7393,
          7500,
          7379,
          7427,
          7570,
          7900,
          8468,
          8426,
          8246,
          7695,
          7171,
          6533,
          6053,
          5629,
          5291,
          4726,
          4333,
          4024,
          3816,
          3599,
          3333,
          3250,
          3164,
          3062,
          3112,
          2936,
          3107,
          2983,
          2887,
          2890,
          2945,
          2875,
          2951,
          2855,
          2831,
          2754,
          2834
         ],
         "yaxis": "y"
        },
        {
         "hovertemplate": "pais=Chile<br>ano_semana=%{x}<br>total_muertes_reportadas=%{y}<extra></extra>",
         "legendgroup": "Chile",
         "line": {
          "color": "#00cc96",
          "dash": "solid"
         },
         "marker": {
          "symbol": "circle"
         },
         "mode": "lines",
         "name": "Chile",
         "orientation": "v",
         "showlegend": true,
         "type": "scatter",
         "x": [
          "202002",
          "202003",
          "202004",
          "202005",
          "202006",
          "202007",
          "202008",
          "202009",
          "202010",
          "202011",
          "202012",
          "202013",
          "202014",
          "202015",
          "202016",
          "202017",
          "202018",
          "202019",
          "202020",
          "202021",
          "202022",
          "202023",
          "202024",
          "202025",
          "202026",
          "202027",
          "202028",
          "202029",
          "202030",
          "202031",
          "202032",
          "202033",
          "202034",
          "202035",
          "202036",
          "202037",
          "202038",
          "202039",
          "202040",
          "202041",
          "202042",
          "202043",
          "202044",
          "202045",
          "202046",
          "202047",
          "202048",
          "202049",
          "202050",
          "202051",
          "202052",
          "202053",
          "202101",
          "202102",
          "202103",
          "202104",
          "202105",
          "202106",
          "202107",
          "202108",
          "202109",
          "202110",
          "202111",
          "202112",
          "202113",
          "202114",
          "202115",
          "202116",
          "202117",
          "202118",
          "202119",
          "202120",
          "202121",
          "202122",
          "202123",
          "202124",
          "202125",
          "202126",
          "202127",
          "202128",
          "202129",
          "202130",
          "202131",
          "202132",
          "202133",
          "202134",
          "202135",
          "202136",
          "202137",
          "202138",
          "202139",
          "202140",
          "202141",
          "202142"
         ],
         "xaxis": "x",
         "y": [
          2053,
          2057,
          1964,
          1970,
          1994,
          1909,
          1899,
          1884,
          1885,
          1928,
          2008,
          2006,
          2081,
          2010,
          2087,
          2095,
          2083,
          2342,
          2438,
          2933,
          3394,
          3899,
          3983,
          3732,
          3519,
          3070,
          2967,
          2814,
          2698,
          2653,
          2516,
          2431,
          2596,
          2479,
          2395,
          2405,
          2401,
          2364,
          2340,
          2396,
          2307,
          2304,
          2268,
          2239,
          2121,
          2184,
          2203,
          2174,
          2187,
          2155,
          2291,
          2236,
          2445,
          2438,
          2701,
          2557,
          2633,
          2506,
          2502,
          2606,
          2661,
          2656,
          2550,
          2741,
          2833,
          2849,
          2897,
          2664,
          2786,
          2731,
          2766,
          2936,
          3081,
          3014,
          3132,
          3180,
          3194,
          3326,
          3119,
          3042,
          2866,
          2745,
          2639,
          2625,
          2608,
          2357,
          2332,
          2394,
          2383,
          2354,
          2244,
          2316,
          2325,
          2112
         ],
         "yaxis": "y"
        },
        {
         "hovertemplate": "pais=Colombia<br>ano_semana=%{x}<br>total_muertes_reportadas=%{y}<extra></extra>",
         "legendgroup": "Colombia",
         "line": {
          "color": "#ab63fa",
          "dash": "solid"
         },
         "marker": {
          "symbol": "circle"
         },
         "mode": "lines",
         "name": "Colombia",
         "orientation": "v",
         "showlegend": true,
         "type": "scatter",
         "x": [
          "202002",
          "202003",
          "202004",
          "202005",
          "202006",
          "202007",
          "202008",
          "202009",
          "202010",
          "202011",
          "202012",
          "202013",
          "202014",
          "202015",
          "202016",
          "202017",
          "202018",
          "202019",
          "202020",
          "202021",
          "202022",
          "202023",
          "202024",
          "202025",
          "202026",
          "202027",
          "202028",
          "202029",
          "202030",
          "202031",
          "202032",
          "202033",
          "202034",
          "202035",
          "202036",
          "202037",
          "202038",
          "202039",
          "202040",
          "202041",
          "202042",
          "202043",
          "202044",
          "202045",
          "202046",
          "202047",
          "202048",
          "202049",
          "202050",
          "202051",
          "202052",
          "202053",
          "202101",
          "202102",
          "202103",
          "202104",
          "202105",
          "202106",
          "202107",
          "202108",
          "202109",
          "202110",
          "202111",
          "202112",
          "202113",
          "202114",
          "202115",
          "202116",
          "202117",
          "202118",
          "202119",
          "202120",
          "202121",
          "202122",
          "202123",
          "202124",
          "202125",
          "202126",
          "202127"
         ],
         "xaxis": "x",
         "y": [
          5007,
          4897,
          4760,
          4631,
          4742,
          4699,
          4693,
          4520,
          4534,
          4457,
          4499,
          4337,
          4190,
          4255,
          4355,
          4328,
          4263,
          4469,
          4579,
          4701,
          4738,
          5153,
          5338,
          5778,
          6128,
          6233,
          6739,
          7313,
          7702,
          8070,
          7888,
          7648,
          7152,
          6798,
          6570,
          6383,
          6240,
          6161,
          6019,
          6173,
          6190,
          6303,
          6080,
          6252,
          6119,
          6242,
          6266,
          6206,
          6640,
          6687,
          7203,
          7814,
          7964,
          8440,
          8479,
          7676,
          7029,
          6341,
          5915,
          5564,
          5562,
          5315,
          5569,
          5958,
          6473,
          7210,
          8440,
          8775,
          8789,
          8882,
          8988,
          9058,
          9296,
          9767,
          10081,
          10451,
          10456,
          10240,
          9485
         ],
         "yaxis": "y"
        }
       ],
       "layout": {
        "legend": {
         "title": {
          "text": "pais"
         },
         "tracegroupgap": 0,
         "x": 0.01,
         "xanchor": "left",
         "y": 0.99,
         "yanchor": "top"
        },
        "margin": {
         "t": 60
        },
        "plot_bgcolor": "white",
        "showlegend": true,
        "template": {
         "data": {
          "bar": [
           {
            "error_x": {
             "color": "#2a3f5f"
            },
            "error_y": {
             "color": "#2a3f5f"
            },
            "marker": {
             "line": {
              "color": "#E5ECF6",
              "width": 0.5
             },
             "pattern": {
              "fillmode": "overlay",
              "size": 10,
              "solidity": 0.2
             }
            },
            "type": "bar"
           }
          ],
          "barpolar": [
           {
            "marker": {
             "line": {
              "color": "#E5ECF6",
              "width": 0.5
             },
             "pattern": {
              "fillmode": "overlay",
              "size": 10,
              "solidity": 0.2
             }
            },
            "type": "barpolar"
           }
          ],
          "carpet": [
           {
            "aaxis": {
             "endlinecolor": "#2a3f5f",
             "gridcolor": "white",
             "linecolor": "white",
             "minorgridcolor": "white",
             "startlinecolor": "#2a3f5f"
            },
            "baxis": {
             "endlinecolor": "#2a3f5f",
             "gridcolor": "white",
             "linecolor": "white",
             "minorgridcolor": "white",
             "startlinecolor": "#2a3f5f"
            },
            "type": "carpet"
           }
          ],
          "choropleth": [
           {
            "colorbar": {
             "outlinewidth": 0,
             "ticks": ""
            },
            "type": "choropleth"
           }
          ],
          "contour": [
           {
            "colorbar": {
             "outlinewidth": 0,
             "ticks": ""
            },
            "colorscale": [
             [
              0,
              "#0d0887"
             ],
             [
              0.1111111111111111,
              "#46039f"
             ],
             [
              0.2222222222222222,
              "#7201a8"
             ],
             [
              0.3333333333333333,
              "#9c179e"
             ],
             [
              0.4444444444444444,
              "#bd3786"
             ],
             [
              0.5555555555555556,
              "#d8576b"
             ],
             [
              0.6666666666666666,
              "#ed7953"
             ],
             [
              0.7777777777777778,
              "#fb9f3a"
             ],
             [
              0.8888888888888888,
              "#fdca26"
             ],
             [
              1,
              "#f0f921"
             ]
            ],
            "type": "contour"
           }
          ],
          "contourcarpet": [
           {
            "colorbar": {
             "outlinewidth": 0,
             "ticks": ""
            },
            "type": "contourcarpet"
           }
          ],
          "heatmap": [
           {
            "colorbar": {
             "outlinewidth": 0,
             "ticks": ""
            },
            "colorscale": [
             [
              0,
              "#0d0887"
             ],
             [
              0.1111111111111111,
              "#46039f"
             ],
             [
              0.2222222222222222,
              "#7201a8"
             ],
             [
              0.3333333333333333,
              "#9c179e"
             ],
             [
              0.4444444444444444,
              "#bd3786"
             ],
             [
              0.5555555555555556,
              "#d8576b"
             ],
             [
              0.6666666666666666,
              "#ed7953"
             ],
             [
              0.7777777777777778,
              "#fb9f3a"
             ],
             [
              0.8888888888888888,
              "#fdca26"
             ],
             [
              1,
              "#f0f921"
             ]
            ],
            "type": "heatmap"
           }
          ],
          "heatmapgl": [
           {
            "colorbar": {
             "outlinewidth": 0,
             "ticks": ""
            },
            "colorscale": [
             [
              0,
              "#0d0887"
             ],
             [
              0.1111111111111111,
              "#46039f"
             ],
             [
              0.2222222222222222,
              "#7201a8"
             ],
             [
              0.3333333333333333,
              "#9c179e"
             ],
             [
              0.4444444444444444,
              "#bd3786"
             ],
             [
              0.5555555555555556,
              "#d8576b"
             ],
             [
              0.6666666666666666,
              "#ed7953"
             ],
             [
              0.7777777777777778,
              "#fb9f3a"
             ],
             [
              0.8888888888888888,
              "#fdca26"
             ],
             [
              1,
              "#f0f921"
             ]
            ],
            "type": "heatmapgl"
           }
          ],
          "histogram": [
           {
            "marker": {
             "pattern": {
              "fillmode": "overlay",
              "size": 10,
              "solidity": 0.2
             }
            },
            "type": "histogram"
           }
          ],
          "histogram2d": [
           {
            "colorbar": {
             "outlinewidth": 0,
             "ticks": ""
            },
            "colorscale": [
             [
              0,
              "#0d0887"
             ],
             [
              0.1111111111111111,
              "#46039f"
             ],
             [
              0.2222222222222222,
              "#7201a8"
             ],
             [
              0.3333333333333333,
              "#9c179e"
             ],
             [
              0.4444444444444444,
              "#bd3786"
             ],
             [
              0.5555555555555556,
              "#d8576b"
             ],
             [
              0.6666666666666666,
              "#ed7953"
             ],
             [
              0.7777777777777778,
              "#fb9f3a"
             ],
             [
              0.8888888888888888,
              "#fdca26"
             ],
             [
              1,
              "#f0f921"
             ]
            ],
            "type": "histogram2d"
           }
          ],
          "histogram2dcontour": [
           {
            "colorbar": {
             "outlinewidth": 0,
             "ticks": ""
            },
            "colorscale": [
             [
              0,
              "#0d0887"
             ],
             [
              0.1111111111111111,
              "#46039f"
             ],
             [
              0.2222222222222222,
              "#7201a8"
             ],
             [
              0.3333333333333333,
              "#9c179e"
             ],
             [
              0.4444444444444444,
              "#bd3786"
             ],
             [
              0.5555555555555556,
              "#d8576b"
             ],
             [
              0.6666666666666666,
              "#ed7953"
             ],
             [
              0.7777777777777778,
              "#fb9f3a"
             ],
             [
              0.8888888888888888,
              "#fdca26"
             ],
             [
              1,
              "#f0f921"
             ]
            ],
            "type": "histogram2dcontour"
           }
          ],
          "mesh3d": [
           {
            "colorbar": {
             "outlinewidth": 0,
             "ticks": ""
            },
            "type": "mesh3d"
           }
          ],
          "parcoords": [
           {
            "line": {
             "colorbar": {
              "outlinewidth": 0,
              "ticks": ""
             }
            },
            "type": "parcoords"
           }
          ],
          "pie": [
           {
            "automargin": true,
            "type": "pie"
           }
          ],
          "scatter": [
           {
            "marker": {
             "colorbar": {
              "outlinewidth": 0,
              "ticks": ""
             }
            },
            "type": "scatter"
           }
          ],
          "scatter3d": [
           {
            "line": {
             "colorbar": {
              "outlinewidth": 0,
              "ticks": ""
             }
            },
            "marker": {
             "colorbar": {
              "outlinewidth": 0,
              "ticks": ""
             }
            },
            "type": "scatter3d"
           }
          ],
          "scattercarpet": [
           {
            "marker": {
             "colorbar": {
              "outlinewidth": 0,
              "ticks": ""
             }
            },
            "type": "scattercarpet"
           }
          ],
          "scattergeo": [
           {
            "marker": {
             "colorbar": {
              "outlinewidth": 0,
              "ticks": ""
             }
            },
            "type": "scattergeo"
           }
          ],
          "scattergl": [
           {
            "marker": {
             "colorbar": {
              "outlinewidth": 0,
              "ticks": ""
             }
            },
            "type": "scattergl"
           }
          ],
          "scattermapbox": [
           {
            "marker": {
             "colorbar": {
              "outlinewidth": 0,
              "ticks": ""
             }
            },
            "type": "scattermapbox"
           }
          ],
          "scatterpolar": [
           {
            "marker": {
             "colorbar": {
              "outlinewidth": 0,
              "ticks": ""
             }
            },
            "type": "scatterpolar"
           }
          ],
          "scatterpolargl": [
           {
            "marker": {
             "colorbar": {
              "outlinewidth": 0,
              "ticks": ""
             }
            },
            "type": "scatterpolargl"
           }
          ],
          "scatterternary": [
           {
            "marker": {
             "colorbar": {
              "outlinewidth": 0,
              "ticks": ""
             }
            },
            "type": "scatterternary"
           }
          ],
          "surface": [
           {
            "colorbar": {
             "outlinewidth": 0,
             "ticks": ""
            },
            "colorscale": [
             [
              0,
              "#0d0887"
             ],
             [
              0.1111111111111111,
              "#46039f"
             ],
             [
              0.2222222222222222,
              "#7201a8"
             ],
             [
              0.3333333333333333,
              "#9c179e"
             ],
             [
              0.4444444444444444,
              "#bd3786"
             ],
             [
              0.5555555555555556,
              "#d8576b"
             ],
             [
              0.6666666666666666,
              "#ed7953"
             ],
             [
              0.7777777777777778,
              "#fb9f3a"
             ],
             [
              0.8888888888888888,
              "#fdca26"
             ],
             [
              1,
              "#f0f921"
             ]
            ],
            "type": "surface"
           }
          ],
          "table": [
           {
            "cells": {
             "fill": {
              "color": "#EBF0F8"
             },
             "line": {
              "color": "white"
             }
            },
            "header": {
             "fill": {
              "color": "#C8D4E3"
             },
             "line": {
              "color": "white"
             }
            },
            "type": "table"
           }
          ]
         },
         "layout": {
          "annotationdefaults": {
           "arrowcolor": "#2a3f5f",
           "arrowhead": 0,
           "arrowwidth": 1
          },
          "autotypenumbers": "strict",
          "coloraxis": {
           "colorbar": {
            "outlinewidth": 0,
            "ticks": ""
           }
          },
          "colorscale": {
           "diverging": [
            [
             0,
             "#8e0152"
            ],
            [
             0.1,
             "#c51b7d"
            ],
            [
             0.2,
             "#de77ae"
            ],
            [
             0.3,
             "#f1b6da"
            ],
            [
             0.4,
             "#fde0ef"
            ],
            [
             0.5,
             "#f7f7f7"
            ],
            [
             0.6,
             "#e6f5d0"
            ],
            [
             0.7,
             "#b8e186"
            ],
            [
             0.8,
             "#7fbc41"
            ],
            [
             0.9,
             "#4d9221"
            ],
            [
             1,
             "#276419"
            ]
           ],
           "sequential": [
            [
             0,
             "#0d0887"
            ],
            [
             0.1111111111111111,
             "#46039f"
            ],
            [
             0.2222222222222222,
             "#7201a8"
            ],
            [
             0.3333333333333333,
             "#9c179e"
            ],
            [
             0.4444444444444444,
             "#bd3786"
            ],
            [
             0.5555555555555556,
             "#d8576b"
            ],
            [
             0.6666666666666666,
             "#ed7953"
            ],
            [
             0.7777777777777778,
             "#fb9f3a"
            ],
            [
             0.8888888888888888,
             "#fdca26"
            ],
            [
             1,
             "#f0f921"
            ]
           ],
           "sequentialminus": [
            [
             0,
             "#0d0887"
            ],
            [
             0.1111111111111111,
             "#46039f"
            ],
            [
             0.2222222222222222,
             "#7201a8"
            ],
            [
             0.3333333333333333,
             "#9c179e"
            ],
            [
             0.4444444444444444,
             "#bd3786"
            ],
            [
             0.5555555555555556,
             "#d8576b"
            ],
            [
             0.6666666666666666,
             "#ed7953"
            ],
            [
             0.7777777777777778,
             "#fb9f3a"
            ],
            [
             0.8888888888888888,
             "#fdca26"
            ],
            [
             1,
             "#f0f921"
            ]
           ]
          },
          "colorway": [
           "#636efa",
           "#EF553B",
           "#00cc96",
           "#ab63fa",
           "#FFA15A",
           "#19d3f3",
           "#FF6692",
           "#B6E880",
           "#FF97FF",
           "#FECB52"
          ],
          "font": {
           "color": "#2a3f5f"
          },
          "geo": {
           "bgcolor": "white",
           "lakecolor": "white",
           "landcolor": "#E5ECF6",
           "showlakes": true,
           "showland": true,
           "subunitcolor": "white"
          },
          "hoverlabel": {
           "align": "left"
          },
          "hovermode": "closest",
          "mapbox": {
           "style": "light"
          },
          "paper_bgcolor": "white",
          "plot_bgcolor": "#E5ECF6",
          "polar": {
           "angularaxis": {
            "gridcolor": "white",
            "linecolor": "white",
            "ticks": ""
           },
           "bgcolor": "#E5ECF6",
           "radialaxis": {
            "gridcolor": "white",
            "linecolor": "white",
            "ticks": ""
           }
          },
          "scene": {
           "xaxis": {
            "backgroundcolor": "#E5ECF6",
            "gridcolor": "white",
            "gridwidth": 2,
            "linecolor": "white",
            "showbackground": true,
            "ticks": "",
            "zerolinecolor": "white"
           },
           "yaxis": {
            "backgroundcolor": "#E5ECF6",
            "gridcolor": "white",
            "gridwidth": 2,
            "linecolor": "white",
            "showbackground": true,
            "ticks": "",
            "zerolinecolor": "white"
           },
           "zaxis": {
            "backgroundcolor": "#E5ECF6",
            "gridcolor": "white",
            "gridwidth": 2,
            "linecolor": "white",
            "showbackground": true,
            "ticks": "",
            "zerolinecolor": "white"
           }
          },
          "shapedefaults": {
           "line": {
            "color": "#2a3f5f"
           }
          },
          "ternary": {
           "aaxis": {
            "gridcolor": "white",
            "linecolor": "white",
            "ticks": ""
           },
           "baxis": {
            "gridcolor": "white",
            "linecolor": "white",
            "ticks": ""
           },
           "bgcolor": "#E5ECF6",
           "caxis": {
            "gridcolor": "white",
            "linecolor": "white",
            "ticks": ""
           }
          },
          "title": {
           "x": 0.05
          },
          "xaxis": {
           "automargin": true,
           "gridcolor": "white",
           "linecolor": "white",
           "ticks": "",
           "title": {
            "standoff": 15
           },
           "zerolinecolor": "white",
           "zerolinewidth": 2
          },
          "yaxis": {
           "automargin": true,
           "gridcolor": "white",
           "linecolor": "white",
           "ticks": "",
           "title": {
            "standoff": 15
           },
           "zerolinecolor": "white",
           "zerolinewidth": 2
          }
         }
        },
        "xaxis": {
         "anchor": "y",
         "domain": [
          0,
          1
         ],
         "linecolor": "rgb(0, 0, 0)",
         "linewidth": 1,
         "showgrid": true,
         "showline": true,
         "showticklabels": true,
         "tickfont": {
          "family": "Arial",
          "size": 12
         },
         "ticks": "outside",
         "title": {
          "text": "ano_semana"
         }
        },
        "yaxis": {
         "anchor": "x",
         "domain": [
          0,
          1
         ],
         "linecolor": "rgb(0, 0, 0)",
         "linewidth": 1,
         "range": [
          0,
          50000
         ],
         "showgrid": true,
         "showline": true,
         "showticklabels": true,
         "tickfont": {
          "family": "Arial",
          "size": 12
         },
         "ticks": "outside",
         "title": {
          "text": "total_muertes_reportadas"
         }
        }
       }
      }
     },
     "metadata": {},
     "output_type": "display_data"
    }
   ],
   "source": [
    "\n",
    "fig = px.line(\n",
    "    df_muertes_covid_2020.loc[df_muertes_covid_2020['pais']!='Brazil'],\n",
    "    x=\"ano_semana\", y=\"total_muertes_reportadas\", color='pais'\n",
    "    )\n",
    "\n",
    "fig.update_layout(\n",
    "    xaxis=dict(\n",
    "        showline=True,\n",
    "        showgrid=True,\n",
    "        showticklabels=True,\n",
    "        linewidth=1,\n",
    "        linecolor='rgb(0, 0, 0)',\n",
    "        ticks='outside',\n",
    "        tickfont=dict(\n",
    "            family='Arial',\n",
    "            size=12\n",
    "        )\n",
    "    ),\n",
    "    yaxis=dict(\n",
    "        showline=True,\n",
    "        showgrid=True,\n",
    "        showticklabels=True,\n",
    "        linewidth=1,\n",
    "        linecolor='rgb(0, 0, 0)',\n",
    "        ticks='outside',\n",
    "        tickfont=dict(\n",
    "            family='Arial',\n",
    "            size=12\n",
    "        )\n",
    "    ),\n",
    "    showlegend=True,\n",
    "    legend=dict(\n",
    "        yanchor=\"top\",\n",
    "        y=0.99,\n",
    "        xanchor=\"left\",\n",
    "        x=0.01\n",
    "    ),\n",
    "    plot_bgcolor='white'\n",
    "    )\n",
    "\n",
    "# fig.update_xaxes(range=[202002, 202143])\n",
    "fig.update_yaxes(range=[0, 50000])\n",
    "\n",
    "\n",
    "fig.show()"
   ]
  },
  {
   "cell_type": "markdown",
   "metadata": {},
   "source": [
    "### 4. Un gráfico por cada país que muestre las mismas variables que el punto anterior, pero acumuladas en el tiempo."
   ]
  },
  {
   "cell_type": "markdown",
   "metadata": {},
   "source": []
  },
  {
   "cell_type": "code",
   "execution_count": 19,
   "metadata": {},
   "outputs": [],
   "source": [
    "from pandas_profiling import ProfileReport"
   ]
  },
  {
   "cell_type": "code",
   "execution_count": 21,
   "metadata": {},
   "outputs": [],
   "source": [
    "profile = ProfileReport(df_muertes_covid, title=\"Relatório de Estatística Descritiva\",\n",
    "                        explorative=True)\n",
    "\n",
    "# profile.to_notebook_iframe();\n",
    "\n",
    "# plotando com widgets\n",
    "# profile.to_widgets();"
   ]
  },
  {
   "cell_type": "code",
   "execution_count": 22,
   "metadata": {},
   "outputs": [
    {
     "name": "stderr",
     "output_type": "stream",
     "text": [
      "Summarize dataset: 100%|██████████| 48/48 [00:04<00:00, 10.02it/s, Completed]                                                                     \n",
      "Generate report structure: 100%|██████████| 1/1 [00:03<00:00,  3.13s/it]\n",
      "Render HTML: 100%|██████████| 1/1 [00:01<00:00,  1.03s/it]\n",
      "Export report to file: 100%|██████████| 1/1 [00:00<00:00,  7.31it/s]\n"
     ]
    }
   ],
   "source": [
    "profile.to_file(\"relatorio_estatistica_descritiva.html\");"
   ]
  },
  {
   "cell_type": "code",
   "execution_count": null,
   "metadata": {},
   "outputs": [],
   "source": []
  }
 ],
 "metadata": {
  "interpreter": {
   "hash": "50f9dc88fbf78228e28ca27dec02a2c0a62082556f09da821a5db223c4e74185"
  },
  "kernelspec": {
   "display_name": "Python 3.9.7 64-bit",
   "language": "python",
   "name": "python3"
  },
  "language_info": {
   "codemirror_mode": {
    "name": "ipython",
    "version": 3
   },
   "file_extension": ".py",
   "mimetype": "text/x-python",
   "name": "python",
   "nbconvert_exporter": "python",
   "pygments_lexer": "ipython3",
   "version": "3.9.7"
  },
  "orig_nbformat": 4
 },
 "nbformat": 4,
 "nbformat_minor": 2
}
